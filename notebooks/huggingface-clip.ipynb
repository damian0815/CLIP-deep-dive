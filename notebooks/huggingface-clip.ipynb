{
 "cells": [
  {
   "cell_type": "code",
   "id": "initial_id",
   "metadata": {
    "collapsed": true,
    "ExecuteTime": {
     "end_time": "2025-05-16T09:14:59.040497Z",
     "start_time": "2025-05-16T09:14:31.523433Z"
    }
   },
   "source": [
    "import torch\n",
    "from transformers import AutoProcessor, AutoModel, CLIPModel, CLIPProcessor\n",
    "\n",
    "model: CLIPModel = AutoModel.from_pretrained(\"openai/clip-vit-base-patch32\", torch_dtype=torch.bfloat16, attn_implementation=\"sdpa\")\n",
    "processor: CLIPProcessor = AutoProcessor.from_pretrained(\"openai/clip-vit-base-patch32\")"
   ],
   "outputs": [
    {
     "name": "stderr",
     "output_type": "stream",
     "text": [
      "/Users/damian/2.current/CLIP-deep-dive/.venv/lib/python3.12/site-packages/tqdm/auto.py:21: TqdmWarning: IProgress not found. Please update jupyter and ipywidgets. See https://ipywidgets.readthedocs.io/en/stable/user_install.html\n",
      "  from .autonotebook import tqdm as notebook_tqdm\n",
      "Using a slow image processor as `use_fast` is unset and a slow processor was saved with this model. `use_fast=True` will be the default behavior in v4.52, even if the model was saved with a slow processor. This will result in minor differences in outputs. You'll still be able to use a slow processor with `use_fast=False`.\n"
     ]
    }
   ],
   "execution_count": 1
  },
  {
   "metadata": {
    "ExecuteTime": {
     "end_time": "2025-05-16T09:46:31.194256Z",
     "start_time": "2025-05-16T09:46:31.191547Z"
    }
   },
   "cell_type": "code",
   "source": [
    "texts = [\"a gray cat\", \"a brown cat\", \"a blue cat\"]\n",
    "token_ids = processor(text=texts, images=None, return_tensors=\"pt\", padding=True).input_ids\n",
    "token_ids.tolist()"
   ],
   "id": "90217baa6d1daec",
   "outputs": [
    {
     "data": {
      "text/plain": [
       "[[49406, 320, 7048, 2368, 49407],\n",
       " [49406, 320, 2866, 2368, 49407],\n",
       " [49406, 320, 1746, 2368, 49407]]"
      ]
     },
     "execution_count": 61,
     "metadata": {},
     "output_type": "execute_result"
    }
   ],
   "execution_count": 61
  },
  {
   "metadata": {
    "ExecuteTime": {
     "end_time": "2025-05-16T09:46:32.395552Z",
     "start_time": "2025-05-16T09:46:32.376198Z"
    }
   },
   "cell_type": "code",
   "source": [
    "encoder_outputs = model.text_model(token_ids, output_hidden_states=True)\n",
    "\n",
    "pooler_output = encoder_outputs.pooler_output\n",
    "last_hidden_state = encoder_outputs.last_hidden_state\n",
    "\n",
    "print(pooler_output.shape)\n",
    "print(last_hidden_state.shape)\n"
   ],
   "id": "fd2c5404ca16e179",
   "outputs": [
    {
     "name": "stdout",
     "output_type": "stream",
     "text": [
      "torch.Size([3, 512])\n",
      "torch.Size([3, 5, 512])\n"
     ]
    }
   ],
   "execution_count": 62
  },
  {
   "metadata": {
    "ExecuteTime": {
     "end_time": "2025-05-16T09:46:42.139023Z",
     "start_time": "2025-05-16T09:46:42.136560Z"
    }
   },
   "cell_type": "code",
   "source": "processor.tokenizer.tokenize(\" \".join(texts))",
   "id": "2d281ae3323e473b",
   "outputs": [
    {
     "data": {
      "text/plain": [
       "['a</w>',\n",
       " 'gray</w>',\n",
       " 'cat</w>',\n",
       " 'a</w>',\n",
       " 'brown</w>',\n",
       " 'cat</w>',\n",
       " 'a</w>',\n",
       " 'blue</w>',\n",
       " 'cat</w>']"
      ]
     },
     "execution_count": 64,
     "metadata": {},
     "output_type": "execute_result"
    }
   ],
   "execution_count": 64
  },
  {
   "metadata": {
    "ExecuteTime": {
     "end_time": "2025-05-16T09:46:44.034318Z",
     "start_time": "2025-05-16T09:46:44.031815Z"
    }
   },
   "cell_type": "code",
   "source": "print(last_hidden_state[0])",
   "id": "cb3254d4d8dfc6f2",
   "outputs": [
    {
     "name": "stdout",
     "output_type": "stream",
     "text": [
      "tensor([[ 0.3379,  0.1177,  0.1021,  ...,  0.2480,  0.5898,  0.1011],\n",
      "        [ 1.9688, -0.5977,  0.3770,  ...,  1.1719,  0.7930, -0.9922],\n",
      "        [-1.1953, -0.7812, -0.2344,  ...,  0.3945,  0.0289, -1.9844],\n",
      "        [ 1.1953, -1.5312,  0.3145,  ...,  0.0593,  0.6992, -0.1040],\n",
      "        [ 0.2402, -1.6875,  0.5234,  ...,  0.6133, -0.2471,  0.1348]],\n",
      "       dtype=torch.bfloat16, grad_fn=<SelectBackward0>)\n"
     ]
    }
   ],
   "execution_count": 65
  },
  {
   "metadata": {
    "ExecuteTime": {
     "end_time": "2025-05-16T09:46:48.750152Z",
     "start_time": "2025-05-16T09:46:48.747722Z"
    }
   },
   "cell_type": "code",
   "source": "print(last_hidden_state[1])",
   "id": "5e7704b1c0f7674b",
   "outputs": [
    {
     "name": "stdout",
     "output_type": "stream",
     "text": [
      "tensor([[ 0.3379,  0.1177,  0.1021,  ...,  0.2480,  0.5898,  0.1011],\n",
      "        [ 1.9688, -0.5977,  0.3770,  ...,  1.1719,  0.7930, -0.9922],\n",
      "        [ 0.4688, -0.3223,  0.8359,  ...,  1.7422, -1.5391, -3.2344],\n",
      "        [ 1.0547, -0.3945,  1.1875,  ...,  0.1758, -1.0156, -1.6719],\n",
      "        [-0.4844, -0.1895,  0.3535,  ...,  0.3770, -1.3594, -2.3438]],\n",
      "       dtype=torch.bfloat16, grad_fn=<SelectBackward0>)\n"
     ]
    }
   ],
   "execution_count": 66
  },
  {
   "metadata": {
    "ExecuteTime": {
     "end_time": "2025-05-16T09:46:54.994843Z",
     "start_time": "2025-05-16T09:46:54.992546Z"
    }
   },
   "cell_type": "code",
   "source": "print(last_hidden_state[2])",
   "id": "47980f187d627112",
   "outputs": [
    {
     "name": "stdout",
     "output_type": "stream",
     "text": [
      "tensor([[ 0.3379,  0.1177,  0.1021,  ...,  0.2480,  0.5898,  0.1011],\n",
      "        [ 1.9688, -0.5977,  0.3770,  ...,  1.1719,  0.7930, -0.9922],\n",
      "        [ 1.2578, -1.6406, -2.0625,  ..., -0.2715,  0.5508, -1.7188],\n",
      "        [ 0.7539, -1.3984, -0.1396,  ..., -0.0053, -0.3633, -1.1484],\n",
      "        [-0.0625, -1.3984, -1.1328,  ..., -0.1904, -0.3281, -0.0801]],\n",
      "       dtype=torch.bfloat16, grad_fn=<SelectBackward0>)\n"
     ]
    }
   ],
   "execution_count": 67
  },
  {
   "metadata": {},
   "cell_type": "code",
   "outputs": [],
   "execution_count": null,
   "source": [
    "\n",
    "import requests\n",
    "from PIL import Image\n",
    "url = \"http://images.cocodataset.org/val2017/000000039769.jpg\"\n",
    "image = Image.open(requests.get(url, stream=True).raw)\n",
    "labels = [\"a photo of a cat\", \"a photo of a dog\", \"a photo of a car\"]\n",
    "\n",
    "inputs = processor(text=labels, images=image, return_tensors=\"pt\", padding=True)\n",
    "\n",
    "outputs = model(**inputs)\n",
    "logits_per_image = outputs.logits_per_image\n",
    "probs = logits_per_image.softmax(dim=1)\n",
    "most_likely_idx = probs.argmax(dim=1).item()\n",
    "most_likely_label = labels[most_likely_idx]\n",
    "print(f\"Most likely label: {most_likely_label} with probability: {probs[0][most_likely_idx].item()})"
   ],
   "id": "344cbc578584cff"
  }
 ],
 "metadata": {
  "kernelspec": {
   "display_name": "Python 3",
   "language": "python",
   "name": "python3"
  },
  "language_info": {
   "codemirror_mode": {
    "name": "ipython",
    "version": 2
   },
   "file_extension": ".py",
   "mimetype": "text/x-python",
   "name": "python",
   "nbconvert_exporter": "python",
   "pygments_lexer": "ipython2",
   "version": "2.7.6"
  }
 },
 "nbformat": 4,
 "nbformat_minor": 5
}
